{
 "cells": [
  {
   "cell_type": "code",
   "execution_count": 1,
   "metadata": {
    "collapsed": true
   },
   "outputs": [],
   "source": [
    "from google.cloud import bigquery"
   ]
  },
  {
   "cell_type": "code",
   "execution_count": 2,
   "metadata": {
    "collapsed": true
   },
   "outputs": [],
   "source": [
    "bigquery_client = bigquery.Client(project='mlpdm-168115')"
   ]
  },
  {
   "cell_type": "code",
   "execution_count": 4,
   "metadata": {
    "collapsed": false
   },
   "outputs": [],
   "source": [
    "datasets = bigquery_client.list_datasets()"
   ]
  },
  {
   "cell_type": "code",
   "execution_count": 6,
   "metadata": {
    "collapsed": false
   },
   "outputs": [
    {
     "name": "stdout",
     "output_type": "stream",
     "text": [
      "<google.cloud.bigquery.dataset.Dataset object at 0x104c91050>\n"
     ]
    }
   ],
   "source": [
    "for i in datasets:\n",
    "    print i"
   ]
  },
  {
   "cell_type": "code",
   "execution_count": 1,
   "metadata": {
    "collapsed": true
   },
   "outputs": [],
   "source": [
    "import datetime\n",
    "i = datetime.datetime.now()"
   ]
  },
  {
   "cell_type": "code",
   "execution_count": 5,
   "metadata": {
    "collapsed": false
   },
   "outputs": [
    {
     "name": "stdout",
     "output_type": "stream",
     "text": [
      "2017-6-27 8:19:43\n"
     ]
    }
   ],
   "source": [
    "print (\"%s-%s-%s %s:%s:%s\" % (i.year, i.month, i.day, i.hour, i.minute, i.second) )"
   ]
  },
  {
   "cell_type": "code",
   "execution_count": null,
   "metadata": {
    "collapsed": true
   },
   "outputs": [],
   "source": [
    "0001-01-01 00:00:00"
   ]
  },
  {
   "cell_type": "code",
   "execution_count": 7,
   "metadata": {
    "collapsed": false
   },
   "outputs": [
    {
     "data": {
      "text/plain": [
       "'2017-06-27 08:19:43'"
      ]
     },
     "execution_count": 7,
     "metadata": {},
     "output_type": "execute_result"
    }
   ],
   "source": [
    "i.strftime('%Y-%m-%d %H:%M:%S')"
   ]
  },
  {
   "cell_type": "code",
   "execution_count": 10,
   "metadata": {
    "collapsed": false
   },
   "outputs": [
    {
     "ename": "ImportError",
     "evalue": "No module named flask_table",
     "output_type": "error",
     "traceback": [
      "\u001b[0;31m---------------------------------------------------------------------------\u001b[0m",
      "\u001b[0;31mImportError\u001b[0m                               Traceback (most recent call last)",
      "\u001b[0;32m<ipython-input-10-89a0f251692c>\u001b[0m in \u001b[0;36m<module>\u001b[0;34m()\u001b[0m\n\u001b[0;32m----> 1\u001b[0;31m \u001b[0;32mfrom\u001b[0m \u001b[0mflask_table\u001b[0m \u001b[0;32mimport\u001b[0m \u001b[0mTable\u001b[0m\u001b[0;34m,\u001b[0m \u001b[0mCol\u001b[0m\u001b[0;34m\u001b[0m\u001b[0m\n\u001b[0m",
      "\u001b[0;31mImportError\u001b[0m: No module named flask_table"
     ]
    }
   ],
   "source": [
    "from flask_table import Table, Col"
   ]
  },
  {
   "cell_type": "code",
   "execution_count": 1,
   "metadata": {
    "collapsed": true
   },
   "outputs": [],
   "source": [
    "from google.cloud import spanner\n",
    "from google.oauth2 import service_account\n",
    "import os"
   ]
  },
  {
   "cell_type": "code",
   "execution_count": 7,
   "metadata": {
    "collapsed": true
   },
   "outputs": [],
   "source": [
    "SA_KEY =\"emailinsight-3b9291f24d02.json\"\n",
    "os.environ[\"GOOGLE_APPLICATION_CREDENTIALS\"] = SA_KEY"
   ]
  },
  {
   "cell_type": "code",
   "execution_count": 8,
   "metadata": {
    "collapsed": false
   },
   "outputs": [],
   "source": [
    "credentials = service_account.Credentials.from_service_account_file(SA_KEY)\n",
    "spanner_client = spanner.Client(credentials=credentials, project=\"emailinsight-1\")"
   ]
  },
  {
   "cell_type": "code",
   "execution_count": 9,
   "metadata": {
    "collapsed": false
   },
   "outputs": [
    {
     "name": "stdout",
     "output_type": "stream",
     "text": [
      "jr\n"
     ]
    }
   ],
   "source": [
    "if spanner_client:\n",
    "    print \"jr\""
   ]
  },
  {
   "cell_type": "code",
   "execution_count": 33,
   "metadata": {
    "collapsed": false
   },
   "outputs": [],
   "source": [
    "instance = spanner_client.instance(\"caseroutingdemo\")\n",
    "database = instance.database(\"caserouting\")"
   ]
  },
  {
   "cell_type": "code",
   "execution_count": 34,
   "metadata": {
    "collapsed": false,
    "scrolled": false
   },
   "outputs": [],
   "source": [
    "results = database.execute_sql(\"SELECT 1\")"
   ]
  },
  {
   "cell_type": "code",
   "execution_count": 35,
   "metadata": {
    "collapsed": false
   },
   "outputs": [
    {
     "data": {
      "text/plain": [
       "<google.cloud.spanner.streamed.StreamedResultSet at 0x106185410>"
      ]
     },
     "execution_count": 35,
     "metadata": {},
     "output_type": "execute_result"
    }
   ],
   "source": [
    "results"
   ]
  },
  {
   "cell_type": "code",
   "execution_count": 36,
   "metadata": {
    "collapsed": false
   },
   "outputs": [
    {
     "name": "stdout",
     "output_type": "stream",
     "text": [
      "[1]\n"
     ]
    }
   ],
   "source": [
    "for i in results:\n",
    "    print i"
   ]
  },
  {
   "cell_type": "code",
   "execution_count": 40,
   "metadata": {
    "collapsed": false,
    "scrolled": true
   },
   "outputs": [],
   "source": [
    "with database.batch() as batch:\n",
    "    batch.insert(\n",
    "        table='cases',\n",
    "        columns=('CaseID', 'Subject', 'Body', 'Category', 'Assignee', 'Region', 'Timestamp'),\n",
    "        values=[\n",
    "            ('ET30I', 'Test', 'Dummy', 'Legal', 'Kris Hauser', 'West', datetime.datetime.now())])"
   ]
  },
  {
   "cell_type": "code",
   "execution_count": 38,
   "metadata": {
    "collapsed": false
   },
   "outputs": [
    {
     "name": "stdout",
     "output_type": "stream",
     "text": [
      "Timestamp: 2017-07-17 13:46:56\n"
     ]
    }
   ],
   "source": [
    "import datetime\n",
    "\n",
    "print('Timestamp: {:%Y-%m-%d %H:%M:%S}'.format(datetime.datetime.now()))"
   ]
  },
  {
   "cell_type": "code",
   "execution_count": 41,
   "metadata": {
    "collapsed": true
   },
   "outputs": [],
   "source": [
    "results = database.execute_sql(\"SELECT Category, count(*) FROM cases Group By Category;\")"
   ]
  },
  {
   "cell_type": "code",
   "execution_count": 44,
   "metadata": {
    "collapsed": false
   },
   "outputs": [
    {
     "name": "stdout",
     "output_type": "stream",
     "text": [
      "[u'TechSupport', 1]\n",
      "[u'Legal', 6]\n"
     ]
    }
   ],
   "source": [
    "for row in results:\n",
    "    print row"
   ]
  },
  {
   "cell_type": "code",
   "execution_count": 45,
   "metadata": {
    "collapsed": true
   },
   "outputs": [],
   "source": [
    "a = [[\"legal\", 1], [\"tech\", 2]]"
   ]
  },
  {
   "cell_type": "code",
   "execution_count": 51,
   "metadata": {
    "collapsed": false
   },
   "outputs": [
    {
     "data": {
      "text/plain": [
       "['legal', 1]"
      ]
     },
     "execution_count": 51,
     "metadata": {},
     "output_type": "execute_result"
    }
   ],
   "source": [
    "a[:][0]"
   ]
  },
  {
   "cell_type": "code",
   "execution_count": 2,
   "metadata": {
    "collapsed": true
   },
   "outputs": [],
   "source": [
    "spanner_client = spanner.Client()\n",
    "\n",
    "instance = spanner_client.instance(\"caseroutingdemo\")\n",
    "database = instance.database(\"caserouting\")"
   ]
  },
  {
   "cell_type": "code",
   "execution_count": 16,
   "metadata": {
    "collapsed": true
   },
   "outputs": [],
   "source": [
    "data = database.execute_sql(\"SELECT * FROM Cases;\")"
   ]
  },
  {
   "cell_type": "code",
   "execution_count": 17,
   "metadata": {
    "collapsed": false
   },
   "outputs": [],
   "source": [
    "a = [i for i in data]\n"
   ]
  },
  {
   "cell_type": "code",
   "execution_count": 18,
   "metadata": {
    "collapsed": false
   },
   "outputs": [
    {
     "data": {
      "text/plain": [
       "[[u'BESKLC',\n",
       "  u'case',\n",
       "  u'Solar energy stocks aren t looking so sunny these days. After enjoying plenty of growth and prosperity for the last several years  the solar energy industry had a less sturdy 2016 and its investors had an even tougher time. Across the board  share prices for solar companies plummeted  with many companies losing more than half their value. First Solar  FSLR   3.20  offered a snapshot of the current predicament when it reported its fourth quarter 2016 earnings after the market closed on Tuesday. The good news was that the company beat analysts  sales and earnings predictions  and slightly raised its sales expectations for 2017  to a range between  2.8 billion and  2.9 billion. The bad news Sales in the quarter were down almost 50  from a year earlier. First Solar stock hit a high of  74.29 last May  but since then its stock s value has been chopped in half  sitting near  36. Shares in SunPower  SPWR   13.15  and Vivint Solar lost more than two thirds of their value and now sit at  8.52 and  3.33  respectively. Uber s CEO Resigned. Here s What Happened to Other Companies That Lost Key Leaders The tumble doesnt seem to match some of the facts on the ground. As a whole  the solar industry has been growing rapidly. Usage of solar power has been climbing dramatically. Solar was the top source of new electric generating equipment in 2016  accounting for 39  of energy installations  according to the U.S. Solar Insight report from GTM Research. Just last year  there was a 95  jump in installations over 2015  totaling 14.6 gigawatts  or enough electricity to power 2.4 million homes. Costs have also been dropping  with the cost of building a solar project now about 70  cheaper than it was ten years ago. There are now more than 270 000 workers in the industry  nearly triple the amount from 2010  according to a recent study from the Solar Foundation. The industry has seen 20  job growth in each of the last four years  with a 10  bump in employment expected for 2017. In fact  the industry slightly edges the natural gas industry in total employment  and employs more than twice as many as the coal industry. But despite the resoundingly positive trends  the solar industry performed horribly on Wall Street last year. Part of the problem stems uncertainty over federal tax credits for solar installations  which helped inflate the value of solar stocks and  more recently  seems to have helped bring them down.The tax credit allows people who install a solar energy system to claim a 30  tax credit on the cost. The credit had been scheduled to expire at the end of 2016  and there was uncertainty over whether or not the program would be extended. Customers eager to take advantage of the tax deal signed lots of contracts in 2014 and 2015 to get their solar installations completed before the end of 2016. But after the government decided  in late 2015  to extend the tax credit all the way through 2021  the urgency to install diminished  which led to a drop in new contracts signed and a collapse in Wall Street enthusiasm. When Tesla  TSLA   1.65  acquired Solar City late last year for  2.6 billion  the move was viewed by some as a bailout. Although Solar City had been growing  it was experiencing financial difficulties. For its part  Tesla viewed the acquisition as a step towards making it a more complete sustainable energy company and did not see it as a drag on its bottom line. Solar City s move of combining forces with another company in the energy sector may prove to be the best play for solar companies in the near future. A diverse company with several revenue streams will more be able to take the financial hit that it appears the solar energy will take in the near futureThe drop in contracts isn t the only thing the sector has to worry about President Trump s energy policy is also a major variable. During his campaign  Trump repeatedly promised to bring coal jobs back to the U.S.  and several 0f his cabinet appointees have strong ties to the oil and gas industries. He has also been critical of renewable energy  so solar power may be the odd man out when it comes to regulatory changes and new tax incentives.',\n",
       "  u'Sales',\n",
       "  TimestampWithNanoseconds(2017, 7, 19, 9, 56, 13, 226770, tzinfo=<UTC>),\n",
       "  u'South',\n",
       "  u'Taylor Traver'],\n",
       " [u'CXKFEW',\n",
       "  u'Please help computer issue',\n",
       "  u'My mac turned off  what do I do? Should I press the start button?',\n",
       "  u'Legal',\n",
       "  TimestampWithNanoseconds(2017, 7, 19, 9, 48, 5, 25304, tzinfo=<UTC>),\n",
       "  u'South',\n",
       "  u'Charles Anderson'],\n",
       " [u'CXTHJQ',\n",
       "  u'the subject',\n",
       "  u'the body',\n",
       "  u'Legal',\n",
       "  TimestampWithNanoseconds(2017, 7, 17, 13, 52, 52, 699832, tzinfo=<UTC>),\n",
       "  u'Midwest',\n",
       "  u'Jane Jackson'],\n",
       " [u'DAFBFU',\n",
       "  u'going',\n",
       "  u'to test once more',\n",
       "  u'Information',\n",
       "  TimestampWithNanoseconds(2017, 7, 19, 14, 24, 31, 553323, tzinfo=<UTC>),\n",
       "  u'Northeast',\n",
       "  u'Raj Kumar'],\n",
       " [u'EOAIYL',\n",
       "  u'sweet',\n",
       "  u'The Ninth Circuit overturned a prevention of significant deterioration permit issued under the Clean Air Act by the U.S. Environmental Protection Agency to the Avenal Power Center in Sierra Club v. EPA. The PSD permit authorized the construction of a 600 megawatt natural gas fired plant located in California s San Joaquin Valley. The plant was required to install state of the art pollution controls for all traditionally regulated pollutants  such as nitrogen oxides  particulate matter and carbon monoxide  but the permit did not fully consider new PSD requirements that come into existence between the time the permit application was deemed complete and the time the permit was issued in final form.  This appeal involved a PSD permit application that Avenal submitted to the EPA in February 2008.  See Avenal Power Center LLC v. EPA  That application was then deemed complete on March 19  2008. Yet almost two years after the permit was deemed complete  the EPA still had not made a decision regarding whether to issue the permit. Bracewell   Giuliani represented Avenal in bringing a challenge before the U.S. District Court for the District of Columbia on the basis that the EPA had violated the one year deadline set by Congress in Section 165 c  of the CAA. The district court ultimately ruled that the EPA must either grant or deny a PSD permit to Avenal within one year of the permit being deemed administratively complete. The EPA then issued a permit to Avenal. The Sierra Club  however  attempted to appeal that permit to the the EPA s Environmental Appeals Board on the basis that the permit did not include new PSD requirements. The EAB declined to exercise jurisdiction to review the permit  but otherwise upheld the decision. Sierra Club then sought review before the Ninth Circuit. Bracewell did not represent Avenal in this subsequent appeal. The Ninth Circuit overturned the permit because the EPAs Office of Air and Radiation and Environmental Appeals Board decided not to analyze greenhouse gases and short term National Ambient Air Quality Standards as part of the permitting action. These considerations were not included in the permit because the EPA had been ordered by a court to issue the permit by a certain date. In effect  the EPA tried to grandfather the source from existing permitting requirements because the GHG and NAAQS requirements became effective after the permit application was complete. The EPA did so because it claimed that there was insufficient time to conduct a proper analysis of GHG emissions or the short term NAAQS and still meet the court s deadline. The Ninth Circuit recognized that the CAA requires that PSD permits must be denied or issued within one year of the application being deemed complete. However  even with this one year deadline  the Ninth Circuit concluded that this obligation does not excuse the EPA from considering new PSD requirements. Therefore  the Ninth Circuit held that the EPA must consider all new PSD requirements that come into existence between the application and the date the permit is final  including those requirements that become effective after the close of the public comment period s . The Ninth Circuit s explanation of why permittees must consider new PSD requirements is rather muddled and unclear. On the one hand  the court stated that the CAA  clearly requires the EPA to apply the regulations in effect at the time of the permitting decision.  But  on the other hand  the court seemed to suggest that grandfathering does not present a problem as long as it is accomplished through regulation. The court tried to reconcile this inconsistency by stating that as long as the decision to grandfather is not made on an ad hoc basis  the EPA can grandfather sources from new requirements. Specifically  the EPA could set an effective date for the new regulation applicable to permit applications submitted after a given date. While creative  this solution does not seem to be consistent with the court s attempt to adhere to the plain language of the CAA. According to the Ninth Circuit  if the EPA does not address the issue of grandfathering in future regulations  all PSD permits that are not final prior to the effective date of the new rule must be revised to address any new regulatory requirement  even if the permit had already been through the public comment process. The court implied that any new assessment would likely need to go through a separate public comment process. Going forward  the Ninth Circuit opinion may have broad implications on the timing of CAA preconstruction permitting. While the Avenal decision was issued by the Ninth Circuit  a recent D.C. Circuit opinion may require that the EPA apply this precedent on a broader scale. On May 30  2014  the D.C. Circuit ruled in National Environmental Development Association s Clean Air Project v. EPA that the EPA could not limit the impact of a circuit court decision on air issues to just those states under the jurisdiction of that particular appellate court. Rather  the NEDA Court stated that the EPA s CAA regulations have to be applied in a fair and uniform matter. As a result  federal circuit court decisions may  in some circumstances  have nationwide impact. However  the NEDA decision may have little or no impact on states with a PSD approved program under a state implementation plan because state law governs such programs. It is unclear how the EPA will apply the NEDA decision or the Ninth Circuit s decision as SIPs are reviewed and approved by the EPA s regional offices.',\n",
       "  u'TechSupport',\n",
       "  TimestampWithNanoseconds(2017, 7, 19, 9, 54, 22, 352826, tzinfo=<UTC>),\n",
       "  u'West',\n",
       "  u'Sheryl Thomas'],\n",
       " [u'ET30I',\n",
       "  u'Test',\n",
       "  u'Dummy',\n",
       "  u'Legal',\n",
       "  TimestampWithNanoseconds(2017, 7, 17, 13, 47, 22, 447029, tzinfo=<UTC>),\n",
       "  u'West',\n",
       "  u'Kris Hauser'],\n",
       " [u'ET340I', u'Test', u'Dummy', u'Legal', None, u'West', u'Kris Hauser'],\n",
       " [u'FOFJAI',\n",
       "  u'the',\n",
       "  u'body',\n",
       "  u'Legal',\n",
       "  TimestampWithNanoseconds(2017, 7, 17, 14, 17, 41, 679548, tzinfo=<UTC>),\n",
       "  u'South',\n",
       "  u'Charles Anderson'],\n",
       " [u'FZJDMW',\n",
       "  u'enviromental problems are too many',\n",
       "  u'oil gas',\n",
       "  u'Legal',\n",
       "  TimestampWithNanoseconds(2017, 7, 17, 13, 52, 18, 460649, tzinfo=<UTC>),\n",
       "  u'Midwest',\n",
       "  u'Charles Anderson'],\n",
       " [u'HNAAIT',\n",
       "  u'legal team',\n",
       "  u'lawyers',\n",
       "  u'Legal',\n",
       "  TimestampWithNanoseconds(2017, 7, 17, 15, 43, 46, 720202, tzinfo=<UTC>),\n",
       "  u'West',\n",
       "  u'Robert Heller'],\n",
       " [u'IAPKDF',\n",
       "  u'sample',\n",
       "  u'legal team is busy',\n",
       "  u'TechSupport',\n",
       "  TimestampWithNanoseconds(2017, 7, 17, 13, 58, 44, 894494, tzinfo=<UTC>),\n",
       "  u'West',\n",
       "  u'Kris Hauser'],\n",
       " [u'ICPDVN',\n",
       "  u'Test',\n",
       "  u'Test',\n",
       "  u'Legal',\n",
       "  TimestampWithNanoseconds(2017, 7, 19, 9, 42, 41, 150457, tzinfo=<UTC>),\n",
       "  u'Midwest',\n",
       "  u'Charles Anderson'],\n",
       " [u'IIFUEI',\n",
       "  u'well',\n",
       "  u'this isn t working all of a sudden',\n",
       "  u'Legal',\n",
       "  TimestampWithNanoseconds(2017, 7, 19, 14, 23, 57, 965787, tzinfo=<UTC>),\n",
       "  u'South',\n",
       "  u'Jane Jackson'],\n",
       " [u'IZRQAQ',\n",
       "  u'I need help calling',\n",
       "  u'AT T is providing me nothing man!',\n",
       "  u'TechSupport',\n",
       "  TimestampWithNanoseconds(2017, 7, 18, 10, 57, 29, 470473, tzinfo=<UTC>),\n",
       "  u'West',\n",
       "  u'Sheryl Thomas'],\n",
       " [u'JEBFQO',\n",
       "  u'1',\n",
       "  u'2',\n",
       "  u'Legal',\n",
       "  TimestampWithNanoseconds(2017, 7, 19, 14, 23, 21, 936850, tzinfo=<UTC>),\n",
       "  u'South',\n",
       "  u'Jane Jackson'],\n",
       " [u'KGXKWK',\n",
       "  u'test',\n",
       "  u'Solar energy stocks aren t looking so sunny these days. After enjoying plenty of growth and prosperity for the last several years  the solar energy industry had a less sturdy 2016 and its investors had an even tougher time. Across the board  share prices for solar companies plummeted  with many companies losing more than half their value. First Solar  FSLR   3.20  offered a snapshot of the current predicament when it reported its fourth quarter 2016 earnings after the market closed on Tuesday. The good news was that the company beat analysts  sales and earnings predictions  and slightly raised its sales expectations for 2017  to a range between  2.8 billion and  2.9 billion. The bad news Sales in the quarter were down almost 50  from a year earlier. First Solar stock hit a high of  74.29 last May  but since then its stock s value has been chopped in half  sitting near  36. Shares in SunPower  SPWR   13.15  and Vivint Solar lost more than two thirds of their value and now sit at  8.52 and  3.33  respectively. Uber s CEO Resigned. Here s What Happened to Other Companies That Lost Key Leaders The tumble doesnt seem to match some of the facts on the ground. As a whole  the solar industry has been growing rapidly. Usage of solar power has been climbing dramatically. Solar was the top source of new electric generating equipment in 2016  accounting for 39  of energy installations  according to the U.S. Solar Insight report from GTM Research. Just last year  there was a 95  jump in installations over 2015  totaling 14.6 gigawatts  or enough electricity to power 2.4 million homes. Costs have also been dropping  with the cost of building a solar project now about 70  cheaper than it was ten years ago. There are now more than 270 000 workers in the industry  nearly triple the amount from 2010  according to a recent study from the Solar Foundation. The industry has seen 20  job growth in each of the last four years  with a 10  bump in employment expected for 2017. In fact  the industry slightly edges the natural gas industry in total employment  and employs more than twice as many as the coal industry. But despite the resoundingly positive trends  the solar industry performed horribly on Wall Street last year. Part of the problem stems uncertainty over federal tax credits for solar installations  which helped inflate the value of solar stocks and  more recently  seems to have helped bring them down.The tax credit allows people who install a solar energy system to claim a 30  tax credit on the cost. The credit had been scheduled to expire at the end of 2016  and there was uncertainty over whether or not the program would be extended. Customers eager to take advantage of the tax deal signed lots of contracts in 2014 and 2015 to get their solar installations completed before the end of 2016. But after the government decided  in late 2015  to extend the tax credit all the way through 2021  the urgency to install diminished  which led to a drop in new contracts signed and a collapse in Wall Street enthusiasm. When Tesla  TSLA   1.65  acquired Solar City late last year for  2.6 billion  the move was viewed by some as a bailout. Although Solar City had been growing  it was experiencing financial difficulties. For its part  Tesla viewed the acquisition as a step towards making it a more complete sustainable energy company and did not see it as a drag on its bottom line. Solar City s move of combining forces with another company in the energy sector may prove to be the best play for solar companies in the near future. A diverse company with several revenue streams will more be able to take the financial hit that it appears the solar energy will take in the near futureThe drop in contracts isn t the only thing the sector has to worry about President Trump s energy policy is also a major variable. During his campaign  Trump repeatedly promised to bring coal jobs back to the U.S.  and several 0f his cabinet appointees have strong ties to the oil and gas industries. He has also been critical of renewable energy  so solar power may be the odd man out when it comes to regulatory changes and new tax incentives.',\n",
       "  u'Sales',\n",
       "  TimestampWithNanoseconds(2017, 7, 19, 9, 53, 37, 630190, tzinfo=<UTC>),\n",
       "  u'Midwest',\n",
       "  u'Taylor Traver'],\n",
       " [u'KWWJER',\n",
       "  u'i m happy',\n",
       "  u'clap along if you feel ... something something',\n",
       "  u'Legal',\n",
       "  TimestampWithNanoseconds(2017, 7, 19, 14, 25, 4, 112828, tzinfo=<UTC>),\n",
       "  u'South',\n",
       "  u'Jane Jackson'],\n",
       " [u'LMDJJQ',\n",
       "  u'Hemanth  testing',\n",
       "  u'3 55PM',\n",
       "  u'Legal',\n",
       "  TimestampWithNanoseconds(2017, 7, 17, 15, 55, 8, 193663, tzinfo=<UTC>),\n",
       "  u'South',\n",
       "  u'Jane Jackson'],\n",
       " [u'NRKPDU',\n",
       "  u'testing case',\n",
       "  u'Solar energy stocks aren t looking so sunny these days. After enjoying plenty of growth and prosperity for the last several years  the solar energy industry had a less sturdy 2016 and its investors had an even tougher time. Across the board  share prices for solar companies plummeted  with many companies losing more than half their value. First Solar  FSLR   3.20  offered a snapshot of the current predicament when it reported its fourth quarter 2016 earnings after the market closed on Tuesday. The good news was that the company beat analysts  sales and earnings predictions  and slightly raised its sales expectations for 2017  to a range between  2.8 billion and  2.9 billion. The bad news Sales in the quarter were down almost 50  from a year earlier. First Solar stock hit a high of  74.29 last May  but since then its stock s value has been chopped in half  sitting near  36. Shares in SunPower  SPWR   13.15  and Vivint Solar lost more than two thirds of their value and now sit at  8.52 and  3.33  respectively. Uber s CEO Resigned. Here s What Happened to Other Companies That Lost Key Leaders The tumble doesnt seem to match some of the facts on the ground. As a whole  the solar industry has been growing rapidly. Usage of solar power has been climbing dramatically. Solar was the top source of new electric generating equipment in 2016  accounting for 39  of energy installations  according to the U.S. Solar Insight report from GTM Research. Just last year  there was a 95  jump in installations over 2015  totaling 14.6 gigawatts  or enough electricity to power 2.4 million homes. Costs have also been dropping  with the cost of building a solar project now about 70  cheaper than it was ten years ago. There are now more than 270 000 workers in the industry  nearly triple the amount from 2010  according to a recent study from the Solar Foundation. The industry has seen 20  job growth in each of the last four years  with a 10  bump in employment expected for 2017. In fact  the industry slightly edges the natural gas industry in total employment  and employs more than twice as many as the coal industry. But despite the resoundingly positive trends  the solar industry performed horribly on Wall Street last year. Part of the problem stems uncertainty over federal tax credits for solar installations  which helped inflate the value of solar stocks and  more recently  seems to have helped bring them down.The tax credit allows people who install a solar energy system to claim a 30  tax credit on the cost. The credit had been scheduled to expire at the end of 2016  and there was uncertainty over whether or not the program would be extended. Customers eager to take advantage of the tax deal signed lots of contracts in 2014 and 2015 to get their solar installations completed before the end of 2016. But after the government decided  in late 2015  to extend the tax credit all the way through 2021  the urgency to install diminished  which led to a drop in new contracts signed and a collapse in Wall Street enthusiasm. When Tesla  TSLA   1.65  acquired Solar City late last year for  2.6 billion  the move was viewed by some as a bailout. Although Solar City had been growing  it was experiencing financial difficulties. For its part  Tesla viewed the acquisition as a step towards making it a more complete sustainable energy company and did not see it as a drag on its bottom line. Solar City s move of combining forces with another company in the energy sector may prove to be the best play for solar companies in the near future. A diverse company with several revenue streams will more be able to take the financial hit that it appears the solar energy will take in the near futureThe drop in contracts isn t the only thing the sector has to worry about President Trump s energy policy is also a major variable. During his campaign  Trump repeatedly promised to bring coal jobs back to the U.S.  and several 0f his cabinet appointees have strong ties to the oil and gas industries. He has also been critical of renewable energy  so solar power may be the odd man out when it comes to regulatory changes and new tax incentives.',\n",
       "  u'Sales',\n",
       "  TimestampWithNanoseconds(2017, 7, 19, 10, 9, 57, 615491, tzinfo=<UTC>),\n",
       "  u'Midwest',\n",
       "  u'Jen Kuecks'],\n",
       " [u'OKASWM',\n",
       "  u'test',\n",
       "  u'again',\n",
       "  u'Legal',\n",
       "  TimestampWithNanoseconds(2017, 7, 19, 14, 15, 31, 183189, tzinfo=<UTC>),\n",
       "  u'South',\n",
       "  u'Robert Heller'],\n",
       " [u'PAAMYK',\n",
       "  u'test',\n",
       "  u'this',\n",
       "  u'Legal',\n",
       "  TimestampWithNanoseconds(2017, 7, 19, 14, 14, 39, 253803, tzinfo=<UTC>),\n",
       "  u'Midwest',\n",
       "  u'Charles Anderson'],\n",
       " [u'PQAEAY',\n",
       "  u'legal team',\n",
       "  u'lawyers',\n",
       "  u'Legal',\n",
       "  TimestampWithNanoseconds(2017, 7, 17, 15, 43, 48, 353931, tzinfo=<UTC>),\n",
       "  u'South',\n",
       "  u'Jane Jackson'],\n",
       " [u'RNFTCU',\n",
       "  u'1',\n",
       "  u'2',\n",
       "  u'Legal',\n",
       "  TimestampWithNanoseconds(2017, 7, 19, 14, 22, 7, 671403, tzinfo=<UTC>),\n",
       "  u'South',\n",
       "  u'Charles Anderson'],\n",
       " [u'SKXPRQ',\n",
       "  u'Protection plan for tech service',\n",
       "  u'I ve been sued  please help',\n",
       "  u'Legal',\n",
       "  TimestampWithNanoseconds(2017, 7, 20, 9, 7, 38, 812469, tzinfo=<UTC>),\n",
       "  u'South',\n",
       "  u'Charles Anderson'],\n",
       " [u'UAUKQU',\n",
       "  u'tech support',\n",
       "  u'my laptop is broken',\n",
       "  u'TechSupport',\n",
       "  TimestampWithNanoseconds(2017, 7, 17, 15, 47, 19, 518446, tzinfo=<UTC>),\n",
       "  u'Northeast',\n",
       "  u'Sheryl Thomas'],\n",
       " [u'UENUCV',\n",
       "  u'AT T sucks',\n",
       "  u'Please help  what do I do? My phone keeps lagging on me man!',\n",
       "  u'Legal',\n",
       "  TimestampWithNanoseconds(2017, 7, 19, 9, 48, 54, 712977, tzinfo=<UTC>),\n",
       "  u'Northeast',\n",
       "  u'Jane Jackson'],\n",
       " [u'VPRBYV',\n",
       "  u'test',\n",
       "  u'The Ninth Circuit overturned a prevention of significant deterioration permit issued under the Clean Air Act by the U.S. Environmental Protection Agency to the Avenal Power Center in Sierra Club v. EPA. The PSD permit authorized the construction of a 600 megawatt natural gas fired plant located in California s San Joaquin Valley. The plant was required to install state of the art pollution controls for all traditionally regulated pollutants  such as nitrogen oxides  particulate matter and carbon monoxide  but the permit did not fully consider new PSD requirements that come into existence between the time the permit application was deemed complete and the time the permit was issued in final form.  This appeal involved a PSD permit application that Avenal submitted to the EPA in February 2008.  See Avenal Power Center LLC v. EPA  That application was then deemed complete on March 19  2008. Yet almost two years after the permit was deemed complete  the EPA still had not made a decision regarding whether to issue the permit. Bracewell   Giuliani represented Avenal in bringing a challenge before the U.S. District Court for the District of Columbia on the basis that the EPA had violated the one year deadline set by Congress in Section 165 c  of the CAA. The district court ultimately ruled that the EPA must either grant or deny a PSD permit to Avenal within one year of the permit being deemed administratively complete. The EPA then issued a permit to Avenal. The Sierra Club  however  attempted to appeal that permit to the the EPA s Environmental Appeals Board on the basis that the permit did not include new PSD requirements. The EAB declined to exercise jurisdiction to review the permit  but otherwise upheld the decision. Sierra Club then sought review before the Ninth Circuit. Bracewell did not represent Avenal in this subsequent appeal. The Ninth Circuit overturned the permit because the EPAs Office of Air and Radiation and Environmental Appeals Board decided not to analyze greenhouse gases and short term National Ambient Air Quality Standards as part of the permitting action. These considerations were not included in the permit because the EPA had been ordered by a court to issue the permit by a certain date. In effect  the EPA tried to grandfather the source from existing permitting requirements because the GHG and NAAQS requirements became effective after the permit application was complete. The EPA did so because it claimed that there was insufficient time to conduct a proper analysis of GHG emissions or the short term NAAQS and still meet the court s deadline. The Ninth Circuit recognized that the CAA requires that PSD permits must be denied or issued within one year of the application being deemed complete. However  even with this one year deadline  the Ninth Circuit concluded that this obligation does not excuse the EPA from considering new PSD requirements. Therefore  the Ninth Circuit held that the EPA must consider all new PSD requirements that come into existence between the application and the date the permit is final  including those requirements that become effective after the close of the public comment period s . The Ninth Circuit s explanation of why permittees must consider new PSD requirements is rather muddled and unclear. On the one hand  the court stated that the CAA  clearly requires the EPA to apply the regulations in effect at the time of the permitting decision.  But  on the other hand  the court seemed to suggest that grandfathering does not present a problem as long as it is accomplished through regulation. The court tried to reconcile this inconsistency by stating that as long as the decision to grandfather is not made on an ad hoc basis  the EPA can grandfather sources from new requirements. Specifically  the EPA could set an effective date for the new regulation applicable to permit applications submitted after a given date. While creative  this solution does not seem to be consistent with the court s attempt to adhere to the plain language of the CAA. According to the Ninth Circuit  if the EPA does not address the issue of grandfathering in future regulations  all PSD permits that are not final prior to the effective date of the new rule must be revised to address any new regulatory requirement  even if the permit had already been through the public comment process. The court implied that any new assessment would likely need to go through a separate public comment process. Going forward  the Ninth Circuit opinion may have broad implications on the timing of CAA preconstruction permitting. While the Avenal decision was issued by the Ninth Circuit  a recent D.C. Circuit opinion may require that the EPA apply this precedent on a broader scale. On May 30  2014  the D.C. Circuit ruled in National Environmental Development Association s Clean Air Project v. EPA that the EPA could not limit the impact of a circuit court decision on air issues to just those states under the jurisdiction of that particular appellate court. Rather  the NEDA Court stated that the EPA s CAA regulations have to be applied in a fair and uniform matter. As a result  federal circuit court decisions may  in some circumstances  have nationwide impact. However  the NEDA decision may have little or no impact on states with a PSD approved program under a state implementation plan because state law governs such programs. It is unclear how the EPA will apply the NEDA decision or the Ninth Circuit s decision as SIPs are reviewed and approved by the EPA s regional offices.',\n",
       "  u'TechSupport',\n",
       "  TimestampWithNanoseconds(2017, 7, 19, 10, 12, 26, 659098, tzinfo=<UTC>),\n",
       "  u'West',\n",
       "  u'Kris Hauser'],\n",
       " [u'WTPYLK',\n",
       "  u'enviromental problems are too many',\n",
       "  u'oil gas',\n",
       "  u'Legal',\n",
       "  TimestampWithNanoseconds(2017, 7, 17, 13, 52, 3, 978604, tzinfo=<UTC>),\n",
       "  u'West',\n",
       "  u'Jane Jackson'],\n",
       " [u'WZZNSF',\n",
       "  u'This doesnt matter',\n",
       "  u'Disk Management This is a system utility for managing the Hard disks and the volumes or partitions that the Hard disks contain. With Disk Management you can initialize disks  create volumes and format volumes with the File Allocation Table  FAT  File Allocation Table 32bit  FAT32  or New Technology File System  NTFS  file systems. Disk Management enables you to perform most disk related tasks without restarting the system or interrupting users. Many of the configuration changes will take effect immediately. In Windows 7 Disk Management provides the same features from earlier versions  but it also adds some new features Simpler partition creation When you right click a volume  you can choose whether to create a basic  spanned  or striped partition directly from the menu Disk conversion options When you add more than four partitions to a basic disk  you are prompted to convert the disk to dynamic or to the GUID partition table  GPT  partition style Extend and shrink partitions You can extend and shrink partitions directly from the Windows interface',\n",
       "  u'TechSupport',\n",
       "  TimestampWithNanoseconds(2017, 7, 19, 9, 52, 7, 366867, tzinfo=<UTC>),\n",
       "  u'Northeast',\n",
       "  u'Sheryl Thomas']]"
      ]
     },
     "execution_count": 18,
     "metadata": {},
     "output_type": "execute_result"
    }
   ],
   "source": [
    "a"
   ]
  },
  {
   "cell_type": "code",
   "execution_count": null,
   "metadata": {
    "collapsed": true
   },
   "outputs": [],
   "source": []
  }
 ],
 "metadata": {
  "kernelspec": {
   "display_name": "Python 2",
   "language": "python",
   "name": "python2"
  },
  "language_info": {
   "codemirror_mode": {
    "name": "ipython",
    "version": 2
   },
   "file_extension": ".py",
   "mimetype": "text/x-python",
   "name": "python",
   "nbconvert_exporter": "python",
   "pygments_lexer": "ipython2",
   "version": "2.7.9"
  }
 },
 "nbformat": 4,
 "nbformat_minor": 0
}
